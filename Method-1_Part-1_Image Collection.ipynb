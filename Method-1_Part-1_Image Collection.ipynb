{
 "cells": [
  {
   "cell_type": "markdown",
   "metadata": {},
   "source": [
    "# 1. Import Dependencies"
   ]
  },
  {
   "cell_type": "code",
   "execution_count": 1,
   "metadata": {},
   "outputs": [
    {
     "name": "stdout",
     "output_type": "stream",
     "text": [
      "Collecting opencv-python\n",
      "  Downloading opencv_python-4.5.4.58-cp36-cp36m-win_amd64.whl (35.1 MB)\n",
      "Collecting numpy>=1.13.3\n",
      "  Downloading numpy-1.19.5-cp36-cp36m-win_amd64.whl (13.2 MB)\n",
      "Installing collected packages: numpy, opencv-python\n",
      "Successfully installed numpy-1.19.5 opencv-python-4.5.4.58\n"
     ]
    }
   ],
   "source": [
    "!pip install opencv-python"
   ]
  },
  {
   "cell_type": "code",
   "execution_count": 1,
   "metadata": {},
   "outputs": [],
   "source": [
    "# Import opencv\n",
    "import cv2 \n",
    "\n",
    "# Import uuid\n",
    "import uuid\n",
    "\n",
    "# Import Operating System\n",
    "import os\n",
    "\n",
    "# Import time\n",
    "import time"
   ]
  },
  {
   "cell_type": "markdown",
   "metadata": {},
   "source": [
    "# 2. Define Images to Collect"
   ]
  },
  {
   "cell_type": "code",
   "execution_count": 2,
   "metadata": {},
   "outputs": [],
   "source": [
    "labels = ['Sign_Aa', 'Sign_Bb', 'Sign_Dd', 'Sign_Ff','Sign_Gg','Sign_Ii','Sign_Ll']\n",
    "number_imgs = 10"
   ]
  },
  {
   "cell_type": "markdown",
   "metadata": {},
   "source": [
    "# 3. Setup Folders "
   ]
  },
  {
   "cell_type": "code",
   "execution_count": 3,
   "metadata": {},
   "outputs": [],
   "source": [
    "IMAGES_PATH = os.path.join('Tensorflow', 'workspace', 'images', 'collectedimages')"
   ]
  },
  {
   "cell_type": "code",
   "execution_count": 9,
   "metadata": {},
   "outputs": [],
   "source": [
    "if not os.path.exists(IMAGES_PATH):\n",
    "    if os.name == 'posix':\n",
    "        !mkdir -p {IMAGES_PATH}\n",
    "    if os.name == 'nt':\n",
    "         !mkdir {IMAGES_PATH}\n",
    "for label in labels:\n",
    "    path = os.path.join(IMAGES_PATH, label)\n",
    "    if not os.path.exists(path):\n",
    "        !mkdir {path}"
   ]
  },
  {
   "cell_type": "markdown",
   "metadata": {},
   "source": [
    "# 4. Capture Images"
   ]
  },
  {
   "cell_type": "code",
   "execution_count": 10,
   "metadata": {},
   "outputs": [
    {
     "name": "stdout",
     "output_type": "stream",
     "text": [
      "Collecting images for Sign_Aa\n",
      "Collecting image 0\n",
      "Collecting image 1\n",
      "Collecting image 2\n",
      "Collecting image 3\n",
      "Collecting image 4\n",
      "Collecting image 5\n",
      "Collecting image 6\n",
      "Collecting image 7\n",
      "Collecting image 8\n",
      "Collecting image 9\n",
      "Collecting images for Sign_Bb\n",
      "Collecting image 0\n",
      "Collecting image 1\n",
      "Collecting image 2\n",
      "Collecting image 3\n",
      "Collecting image 4\n",
      "Collecting image 5\n",
      "Collecting image 6\n",
      "Collecting image 7\n",
      "Collecting image 8\n",
      "Collecting image 9\n",
      "Collecting images for Sign_Dd\n",
      "Collecting image 0\n",
      "Collecting image 1\n",
      "Collecting image 2\n",
      "Collecting image 3\n",
      "Collecting image 4\n",
      "Collecting image 5\n",
      "Collecting image 6\n",
      "Collecting image 7\n",
      "Collecting image 8\n",
      "Collecting image 9\n",
      "Collecting images for Sign_Ff\n",
      "Collecting image 0\n",
      "Collecting image 1\n",
      "Collecting image 2\n",
      "Collecting image 3\n",
      "Collecting image 4\n",
      "Collecting image 5\n",
      "Collecting image 6\n",
      "Collecting image 7\n",
      "Collecting image 8\n",
      "Collecting image 9\n",
      "Collecting images for Sign_Gg\n",
      "Collecting image 0\n",
      "Collecting image 1\n",
      "Collecting image 2\n",
      "Collecting image 3\n",
      "Collecting image 4\n",
      "Collecting image 5\n",
      "Collecting image 6\n",
      "Collecting image 7\n",
      "Collecting image 8\n",
      "Collecting image 9\n",
      "Collecting images for Sign_Ii\n",
      "Collecting image 0\n",
      "Collecting image 1\n",
      "Collecting image 2\n",
      "Collecting image 3\n",
      "Collecting image 4\n",
      "Collecting image 5\n",
      "Collecting image 6\n",
      "Collecting image 7\n",
      "Collecting image 8\n",
      "Collecting image 9\n",
      "Collecting images for Sign_Ll\n",
      "Collecting image 0\n",
      "Collecting image 1\n",
      "Collecting image 2\n",
      "Collecting image 3\n",
      "Collecting image 4\n",
      "Collecting image 5\n",
      "Collecting image 6\n",
      "Collecting image 7\n",
      "Collecting image 8\n",
      "Collecting image 9\n"
     ]
    }
   ],
   "source": [
    "for label in labels:\n",
    "    cap = cv2.VideoCapture(0)\n",
    "    print('Collecting images for {}'.format(label))\n",
    "    time.sleep(5)\n",
    "    for imgnum in range(number_imgs):\n",
    "        print('Collecting image {}'.format(imgnum))\n",
    "        ret, frame = cap.read()\n",
    "        imgname = os.path.join(IMAGES_PATH,label,label+'.'+'{}.jpg'.format(str(uuid.uuid1())))\n",
    "        cv2.imwrite(imgname, frame)\n",
    "        cv2.imshow('frame', frame)\n",
    "        time.sleep(2)\n",
    "\n",
    "        if cv2.waitKey(1) & 0xFF == ord('q'):\n",
    "            break\n",
    "cap.release()\n",
    "cv2.destroyAllWindows()"
   ]
  },
  {
   "cell_type": "code",
   "execution_count": 6,
   "metadata": {},
   "outputs": [],
   "source": [
    "cap.release()\n",
    "cv2.destroyAllWindows()"
   ]
  },
  {
   "cell_type": "markdown",
   "metadata": {},
   "source": [
    "# 5. Image Labelling"
   ]
  },
  {
   "cell_type": "code",
   "execution_count": 13,
   "metadata": {},
   "outputs": [
    {
     "name": "stdout",
     "output_type": "stream",
     "text": [
      "Collecting pyqt5\n",
      "  Downloading PyQt5-5.15.6-cp36-abi3-win_amd64.whl (6.7 MB)\n",
      "Collecting lxml\n",
      "  Downloading lxml-4.6.4-cp36-cp36m-win_amd64.whl (3.5 MB)\n",
      "Collecting PyQt5-sip<13,>=12.8\n",
      "  Downloading PyQt5_sip-12.9.0-cp36-cp36m-win_amd64.whl (62 kB)\n",
      "Collecting PyQt5-Qt5>=5.15.2\n",
      "  Downloading PyQt5_Qt5-5.15.2-py3-none-win_amd64.whl (50.1 MB)\n",
      "Installing collected packages: PyQt5-sip, PyQt5-Qt5, pyqt5, lxml\n",
      "Successfully installed PyQt5-Qt5-5.15.2 PyQt5-sip-12.9.0 lxml-4.6.4 pyqt5-5.15.6\n"
     ]
    }
   ],
   "source": [
    "!pip install --upgrade pyqt5 lxml"
   ]
  },
  {
   "cell_type": "code",
   "execution_count": 13,
   "metadata": {},
   "outputs": [],
   "source": [
    "LABELIMG_PATH = os.path.join('Tensorflow', 'labelimg')"
   ]
  },
  {
   "cell_type": "code",
   "execution_count": 15,
   "metadata": {},
   "outputs": [
    {
     "name": "stderr",
     "output_type": "stream",
     "text": [
      "Cloning into 'Tensorflow\\labelimg'...\n"
     ]
    }
   ],
   "source": [
    "if not os.path.exists(LABELIMG_PATH):\n",
    "    !mkdir {LABELIMG_PATH}\n",
    "    !git clone https://github.com/tzutalin/labelImg {LABELIMG_PATH}"
   ]
  },
  {
   "cell_type": "code",
   "execution_count": 11,
   "metadata": {},
   "outputs": [
    {
     "name": "stderr",
     "output_type": "stream",
     "text": [
      "The system cannot find the path specified.\n"
     ]
    }
   ],
   "source": [
    "if os.name == 'posix':\n",
    "    !make qt5py3\n",
    "if os.name =='nt':\n",
    "    !cd {LABELIMG_PATH} && pyrcc5 -o libs/resources.py resources.qrc"
   ]
  },
  {
   "cell_type": "code",
   "execution_count": 14,
   "metadata": {},
   "outputs": [
    {
     "name": "stdout",
     "output_type": "stream",
     "text": [
      "Image:C:\\Users\\deven\\OneDrive\\Documents\\Tensorflow Object Detection\\TFODCourse\\Tensorflow\\workspace\\images\\collectedimages\\Sign_Aa\\Sign_Aa.2ed39409-4f0d-11ec-9df0-347df6f80362.jpg -> Annotation:C:/Users/deven/OneDrive/Documents/Tensorflow Object Detection/TFODCourse/Tensorflow/workspace/images/collectedimages/Sign_Aa/Sign_Aa.2ed39409-4f0d-11ec-9df0-347df6f80362.xml\n",
      "Image:C:\\Users\\deven\\OneDrive\\Documents\\Tensorflow Object Detection\\TFODCourse\\Tensorflow\\workspace\\images\\collectedimages\\Sign_Aa\\Sign_Aa.33a97231-4f0d-11ec-8af4-347df6f80362.jpg -> Annotation:C:/Users/deven/OneDrive/Documents/Tensorflow Object Detection/TFODCourse/Tensorflow/workspace/images/collectedimages/Sign_Aa/Sign_Aa.33a97231-4f0d-11ec-8af4-347df6f80362.xml\n",
      "Image:C:\\Users\\deven\\OneDrive\\Documents\\Tensorflow Object Detection\\TFODCourse\\Tensorflow\\workspace\\images\\collectedimages\\Sign_Aa\\Sign_Aa.34e12d0a-4f0d-11ec-9cad-347df6f80362.jpg -> Annotation:C:/Users/deven/OneDrive/Documents/Tensorflow Object Detection/TFODCourse/Tensorflow/workspace/images/collectedimages/Sign_Aa/Sign_Aa.34e12d0a-4f0d-11ec-9cad-347df6f80362.xml\n",
      "Image:C:\\Users\\deven\\OneDrive\\Documents\\Tensorflow Object Detection\\TFODCourse\\Tensorflow\\workspace\\images\\collectedimages\\Sign_Aa\\Sign_Aa.313dd34f-4f0d-11ec-9176-347df6f80362.jpg -> Annotation:C:/Users/deven/OneDrive/Documents/Tensorflow Object Detection/TFODCourse/Tensorflow/workspace/images/collectedimages/Sign_Aa/Sign_Aa.313dd34f-4f0d-11ec-9176-347df6f80362.xml\n",
      "Image:C:\\Users\\deven\\OneDrive\\Documents\\Tensorflow Object Detection\\TFODCourse\\Tensorflow\\workspace\\images\\collectedimages\\Sign_Aa\\Sign_Aa.300971e1-4f0d-11ec-a2dc-347df6f80362.jpg -> Annotation:C:/Users/deven/OneDrive/Documents/Tensorflow Object Detection/TFODCourse/Tensorflow/workspace/images/collectedimages/Sign_Aa/Sign_Aa.300971e1-4f0d-11ec-a2dc-347df6f80362.xml\n",
      "Image:C:\\Users\\deven\\OneDrive\\Documents\\Tensorflow Object Detection\\TFODCourse\\Tensorflow\\workspace\\images\\collectedimages\\Sign_Aa\\Sign_Aa.07649771-4f0e-11ec-8a92-347df6f80362.jpg -> Annotation:C:/Users/deven/OneDrive/Documents/Tensorflow Object Detection/TFODCourse/Tensorflow/workspace/images/collectedimages/Sign_Aa/Sign_Aa.07649771-4f0e-11ec-8a92-347df6f80362.xml\n",
      "Image:C:\\Users\\deven\\OneDrive\\Documents\\Tensorflow Object Detection\\TFODCourse\\Tensorflow\\workspace\\images\\collectedimages\\Sign_Bb\\Sign_Bb.41d5580b-4f0d-11ec-afca-347df6f80362.jpg -> Annotation:C:/Users/deven/OneDrive/Documents/Tensorflow Object Detection/TFODCourse/Tensorflow/workspace/images/collectedimages/Sign_Bb/Sign_Bb.41d5580b-4f0d-11ec-afca-347df6f80362.xml\n",
      "Image:C:\\Users\\deven\\OneDrive\\Documents\\Tensorflow Object Detection\\TFODCourse\\Tensorflow\\workspace\\images\\collectedimages\\Sign_Bb\\Sign_Bb.46ad833f-4f0d-11ec-91f2-347df6f80362.jpg -> Annotation:C:/Users/deven/OneDrive/Documents/Tensorflow Object Detection/TFODCourse/Tensorflow/workspace/images/collectedimages/Sign_Bb/Sign_Bb.46ad833f-4f0d-11ec-91f2-347df6f80362.xml\n",
      "Image:C:\\Users\\deven\\OneDrive\\Documents\\Tensorflow Object Detection\\TFODCourse\\Tensorflow\\workspace\\images\\collectedimages\\Sign_Bb\\Sign_Bb.182a9585-4f0e-11ec-9f8d-347df6f80362.jpg -> Annotation:C:/Users/deven/OneDrive/Documents/Tensorflow Object Detection/TFODCourse/Tensorflow/workspace/images/collectedimages/Sign_Bb/Sign_Bb.182a9585-4f0e-11ec-9f8d-347df6f80362.xml\n",
      "Image:C:\\Users\\deven\\OneDrive\\Documents\\Tensorflow Object Detection\\TFODCourse\\Tensorflow\\workspace\\images\\collectedimages\\Sign_Bb\\Sign_Bb.430d2a09-4f0d-11ec-9ad6-347df6f80362.jpg -> Annotation:C:/Users/deven/OneDrive/Documents/Tensorflow Object Detection/TFODCourse/Tensorflow/workspace/images/collectedimages/Sign_Bb/Sign_Bb.430d2a09-4f0d-11ec-9ad6-347df6f80362.xml\n",
      "Image:C:\\Users\\deven\\OneDrive\\Documents\\Tensorflow Object Detection\\TFODCourse\\Tensorflow\\workspace\\images\\collectedimages\\Sign_Bb\\Sign_Bb.4579e314-4f0d-11ec-8f49-347df6f80362.jpg -> Annotation:C:/Users/deven/OneDrive/Documents/Tensorflow Object Detection/TFODCourse/Tensorflow/workspace/images/collectedimages/Sign_Bb/Sign_Bb.4579e314-4f0d-11ec-8f49-347df6f80362.xml\n",
      "Image:C:\\Users\\deven\\OneDrive\\Documents\\Tensorflow Object Detection\\TFODCourse\\Tensorflow\\workspace\\images\\collectedimages\\Sign_Bb\\Sign_Bb.19614130-4f0e-11ec-bfdb-347df6f80362.jpg -> Annotation:C:/Users/deven/OneDrive/Documents/Tensorflow Object Detection/TFODCourse/Tensorflow/workspace/images/collectedimages/Sign_Bb/Sign_Bb.19614130-4f0e-11ec-bfdb-347df6f80362.xml\n",
      "Image:C:\\Users\\deven\\OneDrive\\Documents\\Tensorflow Object Detection\\TFODCourse\\Tensorflow\\workspace\\images\\collectedimages\\Sign_Dd\\Sign_Dd.3d5b91d0-4f0e-11ec-8171-347df6f80362.jpg -> Annotation:C:/Users/deven/OneDrive/Documents/Tensorflow Object Detection/TFODCourse/Tensorflow/workspace/images/collectedimages/Sign_Dd/Sign_Dd.3d5b91d0-4f0e-11ec-8171-347df6f80362.xml\n",
      "Image:C:\\Users\\deven\\OneDrive\\Documents\\Tensorflow Object Detection\\TFODCourse\\Tensorflow\\workspace\\images\\collectedimages\\Sign_Dd\\Sign_Dd.3fc74f0f-4f0e-11ec-a6ca-347df6f80362.jpg -> Annotation:C:/Users/deven/OneDrive/Documents/Tensorflow Object Detection/TFODCourse/Tensorflow/workspace/images/collectedimages/Sign_Dd/Sign_Dd.3fc74f0f-4f0e-11ec-a6ca-347df6f80362.xml\n",
      "Image:C:\\Users\\deven\\OneDrive\\Documents\\Tensorflow Object Detection\\TFODCourse\\Tensorflow\\workspace\\images\\collectedimages\\Sign_Dd\\Sign_Dd.5afc83f5-4f0d-11ec-a43c-347df6f80362.jpg -> Annotation:C:/Users/deven/OneDrive/Documents/Tensorflow Object Detection/TFODCourse/Tensorflow/workspace/images/collectedimages/Sign_Dd/Sign_Dd.5afc83f5-4f0d-11ec-a43c-347df6f80362.xml\n",
      "Image:C:\\Users\\deven\\OneDrive\\Documents\\Tensorflow Object Detection\\TFODCourse\\Tensorflow\\workspace\\images\\collectedimages\\Sign_Dd\\Sign_Dd.5d6734a2-4f0d-11ec-88cf-347df6f80362.jpg -> Annotation:C:/Users/deven/OneDrive/Documents/Tensorflow Object Detection/TFODCourse/Tensorflow/workspace/images/collectedimages/Sign_Dd/Sign_Dd.5d6734a2-4f0d-11ec-88cf-347df6f80362.xml\n",
      "Image:C:\\Users\\deven\\OneDrive\\Documents\\Tensorflow Object Detection\\TFODCourse\\Tensorflow\\workspace\\images\\collectedimages\\Sign_Dd\\Sign_Dd.59c49bdf-4f0d-11ec-bd2f-347df6f80362.jpg -> Annotation:C:/Users/deven/OneDrive/Documents/Tensorflow Object Detection/TFODCourse/Tensorflow/workspace/images/collectedimages/Sign_Dd/Sign_Dd.59c49bdf-4f0d-11ec-bd2f-347df6f80362.xml\n",
      "Image:C:\\Users\\deven\\OneDrive\\Documents\\Tensorflow Object Detection\\TFODCourse\\Tensorflow\\workspace\\images\\collectedimages\\Sign_Dd\\Sign_Dd.561ef09f-4f0d-11ec-9b0b-347df6f80362.jpg -> Annotation:C:/Users/deven/OneDrive/Documents/Tensorflow Object Detection/TFODCourse/Tensorflow/workspace/images/collectedimages/Sign_Dd/Sign_Dd.561ef09f-4f0d-11ec-9b0b-347df6f80362.xml\n",
      "Image:C:\\Users\\deven\\OneDrive\\Documents\\Tensorflow Object Detection\\TFODCourse\\Tensorflow\\workspace\\images\\collectedimages\\Sign_Dd\\Sign_Dd.4230548d-4f0e-11ec-b046-347df6f80362.jpg -> Annotation:C:/Users/deven/OneDrive/Documents/Tensorflow Object Detection/TFODCourse/Tensorflow/workspace/images/collectedimages/Sign_Dd/Sign_Dd.4230548d-4f0e-11ec-b046-347df6f80362.xml\n",
      "Cancel creation.\n",
      "Image:C:\\Users\\deven\\OneDrive\\Documents\\Tensorflow Object Detection\\TFODCourse\\Tensorflow\\workspace\\images\\collectedimages\\Sign_Dd\\Sign_Dd.4499746a-4f0e-11ec-a1f9-347df6f80362.jpg -> Annotation:C:/Users/deven/OneDrive/Documents/Tensorflow Object Detection/TFODCourse/Tensorflow/workspace/images/collectedimages/Sign_Dd/Sign_Dd.4499746a-4f0e-11ec-a1f9-347df6f80362.xml\n",
      "Image:C:\\Users\\deven\\OneDrive\\Documents\\Tensorflow Object Detection\\TFODCourse\\Tensorflow\\workspace\\images\\collectedimages\\Sign_Ff\\Sign_Ff.2a25edf7-4f0e-11ec-ba8d-347df6f80362.jpg -> Annotation:C:/Users/deven/OneDrive/Documents/Tensorflow Object Detection/TFODCourse/Tensorflow/workspace/images/collectedimages/Sign_Ff/Sign_Ff.2a25edf7-4f0e-11ec-ba8d-347df6f80362.xml\n",
      "Image:C:\\Users\\deven\\OneDrive\\Documents\\Tensorflow Object Detection\\TFODCourse\\Tensorflow\\workspace\\images\\collectedimages\\Sign_Ff\\Sign_Ff.2b5b2fc4-4f0e-11ec-9274-347df6f80362.jpg -> Annotation:C:/Users/deven/OneDrive/Documents/Tensorflow Object Detection/TFODCourse/Tensorflow/workspace/images/collectedimages/Sign_Ff/Sign_Ff.2b5b2fc4-4f0e-11ec-9274-347df6f80362.xml\n",
      "Image:C:\\Users\\deven\\OneDrive\\Documents\\Tensorflow Object Detection\\TFODCourse\\Tensorflow\\workspace\\images\\collectedimages\\Sign_Ff\\Sign_Ff.2c9215c8-4f0e-11ec-878e-347df6f80362.jpg -> Annotation:C:/Users/deven/OneDrive/Documents/Tensorflow Object Detection/TFODCourse/Tensorflow/workspace/images/collectedimages/Sign_Ff/Sign_Ff.2c9215c8-4f0e-11ec-878e-347df6f80362.xml\n",
      "Image:C:\\Users\\deven\\OneDrive\\Documents\\Tensorflow Object Detection\\TFODCourse\\Tensorflow\\workspace\\images\\collectedimages\\Sign_Ff\\Sign_Ff.2dc70d32-4f0e-11ec-9890-347df6f80362.jpg -> Annotation:C:/Users/deven/OneDrive/Documents/Tensorflow Object Detection/TFODCourse/Tensorflow/workspace/images/collectedimages/Sign_Ff/Sign_Ff.2dc70d32-4f0e-11ec-9890-347df6f80362.xml\n",
      "Image:C:\\Users\\deven\\OneDrive\\Documents\\Tensorflow Object Detection\\TFODCourse\\Tensorflow\\workspace\\images\\collectedimages\\Sign_Ff\\Sign_Ff.2efc95ee-4f0e-11ec-afaf-347df6f80362.jpg -> Annotation:C:/Users/deven/OneDrive/Documents/Tensorflow Object Detection/TFODCourse/Tensorflow/workspace/images/collectedimages/Sign_Ff/Sign_Ff.2efc95ee-4f0e-11ec-afaf-347df6f80362.xml\n",
      "Image:C:\\Users\\deven\\OneDrive\\Documents\\Tensorflow Object Detection\\TFODCourse\\Tensorflow\\workspace\\images\\collectedimages\\Sign_Ff\\Sign_Ff.6e195df7-4f0d-11ec-b127-347df6f80362.jpg -> Annotation:C:/Users/deven/OneDrive/Documents/Tensorflow Object Detection/TFODCourse/Tensorflow/workspace/images/collectedimages/Sign_Ff/Sign_Ff.6e195df7-4f0d-11ec-b127-347df6f80362.xml\n",
      "Image:C:\\Users\\deven\\OneDrive\\Documents\\Tensorflow Object Detection\\TFODCourse\\Tensorflow\\workspace\\images\\collectedimages\\Sign_Ff\\Sign_Ff.28eebd83-4f0e-11ec-a12b-347df6f80362.jpg -> Annotation:C:/Users/deven/OneDrive/Documents/Tensorflow Object Detection/TFODCourse/Tensorflow/workspace/images/collectedimages/Sign_Ff/Sign_Ff.28eebd83-4f0e-11ec-a12b-347df6f80362.xml\n",
      "Image:C:\\Users\\deven\\OneDrive\\Documents\\Tensorflow Object Detection\\TFODCourse\\Tensorflow\\workspace\\images\\collectedimages\\Sign_Ff\\Sign_Ff.3031107d-4f0e-11ec-a6b6-347df6f80362.jpg -> Annotation:C:/Users/deven/OneDrive/Documents/Tensorflow Object Detection/TFODCourse/Tensorflow/workspace/images/collectedimages/Sign_Ff/Sign_Ff.3031107d-4f0e-11ec-a6b6-347df6f80362.xml\n",
      "Image:C:\\Users\\deven\\OneDrive\\Documents\\Tensorflow Object Detection\\TFODCourse\\Tensorflow\\workspace\\images\\collectedimages\\Sign_Gg\\Sign_Gg.4f64048f-4f0e-11ec-8d02-347df6f80362.jpg -> Annotation:C:/Users/deven/OneDrive/Documents/Tensorflow Object Detection/TFODCourse/Tensorflow/workspace/images/collectedimages/Sign_Gg/Sign_Gg.4f64048f-4f0e-11ec-8d02-347df6f80362.xml\n",
      "Image:C:\\Users\\deven\\OneDrive\\Documents\\Tensorflow Object Detection\\TFODCourse\\Tensorflow\\workspace\\images\\collectedimages\\Sign_Gg\\Sign_Gg.51cc6236-4f0e-11ec-8eb1-347df6f80362.jpg -> Annotation:C:/Users/deven/OneDrive/Documents/Tensorflow Object Detection/TFODCourse/Tensorflow/workspace/images/collectedimages/Sign_Gg/Sign_Gg.51cc6236-4f0e-11ec-8eb1-347df6f80362.xml\n",
      "Image:C:\\Users\\deven\\OneDrive\\Documents\\Tensorflow Object Detection\\TFODCourse\\Tensorflow\\workspace\\images\\collectedimages\\Sign_Gg\\Sign_Gg.56a16ce4-4f0e-11ec-b624-347df6f80362.jpg -> Annotation:C:/Users/deven/OneDrive/Documents/Tensorflow Object Detection/TFODCourse/Tensorflow/workspace/images/collectedimages/Sign_Gg/Sign_Gg.56a16ce4-4f0e-11ec-b624-347df6f80362.xml\n",
      "Image:C:\\Users\\deven\\OneDrive\\Documents\\Tensorflow Object Detection\\TFODCourse\\Tensorflow\\workspace\\images\\collectedimages\\Sign_Gg\\Sign_Gg.83a1e1fc-4f0d-11ec-b36b-347df6f80362.jpg -> Annotation:C:/Users/deven/OneDrive/Documents/Tensorflow Object Detection/TFODCourse/Tensorflow/workspace/images/collectedimages/Sign_Gg/Sign_Gg.83a1e1fc-4f0d-11ec-b36b-347df6f80362.xml\n",
      "Image:C:\\Users\\deven\\OneDrive\\Documents\\Tensorflow Object Detection\\TFODCourse\\Tensorflow\\workspace\\images\\collectedimages\\Sign_Gg\\Sign_Gg.84d61e98-4f0d-11ec-8b77-347df6f80362.jpg -> Annotation:C:/Users/deven/OneDrive/Documents/Tensorflow Object Detection/TFODCourse/Tensorflow/workspace/images/collectedimages/Sign_Gg/Sign_Gg.84d61e98-4f0d-11ec-8b77-347df6f80362.xml\n",
      "Image:C:\\Users\\deven\\OneDrive\\Documents\\Tensorflow Object Detection\\TFODCourse\\Tensorflow\\workspace\\images\\collectedimages\\Sign_Gg\\Sign_Gg.556d0cff-4f0e-11ec-9c4c-347df6f80362.jpg -> Annotation:C:/Users/deven/OneDrive/Documents/Tensorflow Object Detection/TFODCourse/Tensorflow/workspace/images/collectedimages/Sign_Gg/Sign_Gg.556d0cff-4f0e-11ec-9c4c-347df6f80362.xml\n",
      "Image:C:\\Users\\deven\\OneDrive\\Documents\\Tensorflow Object Detection\\TFODCourse\\Tensorflow\\workspace\\images\\collectedimages\\Sign_Gg\\Sign_Gg.590dc2af-4f0e-11ec-918d-347df6f80362.jpg -> Annotation:C:/Users/deven/OneDrive/Documents/Tensorflow Object Detection/TFODCourse/Tensorflow/workspace/images/collectedimages/Sign_Gg/Sign_Gg.590dc2af-4f0e-11ec-918d-347df6f80362.xml\n",
      "Image:C:\\Users\\deven\\OneDrive\\Documents\\Tensorflow Object Detection\\TFODCourse\\Tensorflow\\workspace\\images\\collectedimages\\Sign_Gg\\Sign_Gg.5098170b-4f0e-11ec-b336-347df6f80362.jpg -> Annotation:C:/Users/deven/OneDrive/Documents/Tensorflow Object Detection/TFODCourse/Tensorflow/workspace/images/collectedimages/Sign_Gg/Sign_Gg.5098170b-4f0e-11ec-b336-347df6f80362.xml\n",
      "Cancel creation.\n",
      "Image:C:\\Users\\deven\\OneDrive\\Documents\\Tensorflow Object Detection\\TFODCourse\\Tensorflow\\workspace\\images\\collectedimages\\Sign_Ii\\Sign_Ii.6d98abef-4f0e-11ec-9f99-347df6f80362.jpg -> Annotation:C:/Users/deven/OneDrive/Documents/Tensorflow Object Detection/TFODCourse/Tensorflow/workspace/images/collectedimages/Sign_Ii/Sign_Ii.6d98abef-4f0e-11ec-9f99-347df6f80362.xml\n",
      "Image:C:\\Users\\deven\\OneDrive\\Documents\\Tensorflow Object Detection\\TFODCourse\\Tensorflow\\workspace\\images\\collectedimages\\Sign_Ii\\Sign_Ii.9a6cb07d-4f0d-11ec-8070-347df6f80362.jpg -> Annotation:C:/Users/deven/OneDrive/Documents/Tensorflow Object Detection/TFODCourse/Tensorflow/workspace/images/collectedimages/Sign_Ii/Sign_Ii.9a6cb07d-4f0d-11ec-8070-347df6f80362.xml\n",
      "Image:C:\\Users\\deven\\OneDrive\\Documents\\Tensorflow Object Detection\\TFODCourse\\Tensorflow\\workspace\\images\\collectedimages\\Sign_Ii\\Sign_Ii.63eb4a1f-4f0e-11ec-b333-347df6f80362.jpg -> Annotation:C:/Users/deven/OneDrive/Documents/Tensorflow Object Detection/TFODCourse/Tensorflow/workspace/images/collectedimages/Sign_Ii/Sign_Ii.63eb4a1f-4f0e-11ec-b333-347df6f80362.xml\n",
      "Image:C:\\Users\\deven\\OneDrive\\Documents\\Tensorflow Object Detection\\TFODCourse\\Tensorflow\\workspace\\images\\collectedimages\\Sign_Ii\\Sign_Ii.68c2c63a-4f0e-11ec-ae2d-347df6f80362.jpg -> Annotation:C:/Users/deven/OneDrive/Documents/Tensorflow Object Detection/TFODCourse/Tensorflow/workspace/images/collectedimages/Sign_Ii/Sign_Ii.68c2c63a-4f0e-11ec-ae2d-347df6f80362.xml\n",
      "Image:C:\\Users\\deven\\OneDrive\\Documents\\Tensorflow Object Detection\\TFODCourse\\Tensorflow\\workspace\\images\\collectedimages\\Sign_Ii\\Sign_Ii.96cf9059-4f0d-11ec-9dab-347df6f80362.jpg -> Annotation:C:/Users/deven/OneDrive/Documents/Tensorflow Object Detection/TFODCourse/Tensorflow/workspace/images/collectedimages/Sign_Ii/Sign_Ii.96cf9059-4f0d-11ec-9dab-347df6f80362.xml\n",
      "Image:C:\\Users\\deven\\OneDrive\\Documents\\Tensorflow Object Detection\\TFODCourse\\Tensorflow\\workspace\\images\\collectedimages\\Sign_Ii\\Sign_Ii.959a76f2-4f0d-11ec-8e4a-347df6f80362.jpg -> Annotation:C:/Users/deven/OneDrive/Documents/Tensorflow Object Detection/TFODCourse/Tensorflow/workspace/images/collectedimages/Sign_Ii/Sign_Ii.959a76f2-4f0d-11ec-8e4a-347df6f80362.xml\n",
      "Image:C:\\Users\\deven\\OneDrive\\Documents\\Tensorflow Object Detection\\TFODCourse\\Tensorflow\\workspace\\images\\collectedimages\\Sign_Ii\\Sign_Ii.9803cc3d-4f0d-11ec-bd1a-347df6f80362.jpg -> Annotation:C:/Users/deven/OneDrive/Documents/Tensorflow Object Detection/TFODCourse/Tensorflow/workspace/images/collectedimages/Sign_Ii/Sign_Ii.9803cc3d-4f0d-11ec-bd1a-347df6f80362.xml\n",
      "Image:C:\\Users\\deven\\OneDrive\\Documents\\Tensorflow Object Detection\\TFODCourse\\Tensorflow\\workspace\\images\\collectedimages\\Sign_Ii\\Sign_Ii.946559b3-4f0d-11ec-8f6f-347df6f80362.jpg -> Annotation:C:/Users/deven/OneDrive/Documents/Tensorflow Object Detection/TFODCourse/Tensorflow/workspace/images/collectedimages/Sign_Ii/Sign_Ii.946559b3-4f0d-11ec-8f6f-347df6f80362.xml\n",
      "Image:C:\\Users\\deven\\OneDrive\\Documents\\Tensorflow Object Detection\\TFODCourse\\Tensorflow\\workspace\\images\\collectedimages\\Sign_Ii\\Sign_Ii.99387215-4f0d-11ec-9e2b-347df6f80362.jpg -> Annotation:C:/Users/deven/OneDrive/Documents/Tensorflow Object Detection/TFODCourse/Tensorflow/workspace/images/collectedimages/Sign_Ii/Sign_Ii.99387215-4f0d-11ec-9e2b-347df6f80362.xml\n",
      "Image:C:\\Users\\deven\\OneDrive\\Documents\\Tensorflow Object Detection\\TFODCourse\\Tensorflow\\workspace\\images\\collectedimages\\Sign_Ll\\Sign_Ll.7af28606-4f0e-11ec-9017-347df6f80362.jpg -> Annotation:C:/Users/deven/OneDrive/Documents/Tensorflow Object Detection/TFODCourse/Tensorflow/workspace/images/collectedimages/Sign_Ll/Sign_Ll.7af28606-4f0e-11ec-9017-347df6f80362.xml\n",
      "Image:C:\\Users\\deven\\OneDrive\\Documents\\Tensorflow Object Detection\\TFODCourse\\Tensorflow\\workspace\\images\\collectedimages\\Sign_Ll\\Sign_Ll.7e91a819-4f0e-11ec-acad-347df6f80362.jpg -> Annotation:C:/Users/deven/OneDrive/Documents/Tensorflow Object Detection/TFODCourse/Tensorflow/workspace/images/collectedimages/Sign_Ll/Sign_Ll.7e91a819-4f0e-11ec-acad-347df6f80362.xml\n",
      "Image:C:\\Users\\deven\\OneDrive\\Documents\\Tensorflow Object Detection\\TFODCourse\\Tensorflow\\workspace\\images\\collectedimages\\Sign_Ll\\Sign_Ll.79bce6f4-4f0e-11ec-977a-347df6f80362.jpg -> Annotation:C:/Users/deven/OneDrive/Documents/Tensorflow Object Detection/TFODCourse/Tensorflow/workspace/images/collectedimages/Sign_Ll/Sign_Ll.79bce6f4-4f0e-11ec-977a-347df6f80362.xml\n",
      "Image:C:\\Users\\deven\\OneDrive\\Documents\\Tensorflow Object Detection\\TFODCourse\\Tensorflow\\workspace\\images\\collectedimages\\Sign_Ll\\Sign_Ll.80fe5fc6-4f0e-11ec-94f5-347df6f80362.jpg -> Annotation:C:/Users/deven/OneDrive/Documents/Tensorflow Object Detection/TFODCourse/Tensorflow/workspace/images/collectedimages/Sign_Ll/Sign_Ll.80fe5fc6-4f0e-11ec-94f5-347df6f80362.xml\n",
      "Image:C:\\Users\\deven\\OneDrive\\Documents\\Tensorflow Object Detection\\TFODCourse\\Tensorflow\\workspace\\images\\collectedimages\\Sign_Ll\\Sign_Ll.a52d9257-4f0d-11ec-89eb-347df6f80362.jpg -> Annotation:C:/Users/deven/OneDrive/Documents/Tensorflow Object Detection/TFODCourse/Tensorflow/workspace/images/collectedimages/Sign_Ll/Sign_Ll.a52d9257-4f0d-11ec-89eb-347df6f80362.xml\n",
      "Cancel creation.\n",
      "Image:C:\\Users\\deven\\OneDrive\\Documents\\Tensorflow Object Detection\\TFODCourse\\Tensorflow\\workspace\\images\\collectedimages\\Sign_Ll\\Sign_Ll.a6621443-4f0d-11ec-bf10-347df6f80362.jpg -> Annotation:C:/Users/deven/OneDrive/Documents/Tensorflow Object Detection/TFODCourse/Tensorflow/workspace/images/collectedimages/Sign_Ll/Sign_Ll.a6621443-4f0d-11ec-bf10-347df6f80362.xml\n",
      "Image:C:\\Users\\deven\\OneDrive\\Documents\\Tensorflow Object Detection\\TFODCourse\\Tensorflow\\workspace\\images\\collectedimages\\Sign_Ll\\Sign_Ll.ab36f02c-4f0d-11ec-ac5a-347df6f80362.jpg -> Annotation:C:/Users/deven/OneDrive/Documents/Tensorflow Object Detection/TFODCourse/Tensorflow/workspace/images/collectedimages/Sign_Ll/Sign_Ll.ab36f02c-4f0d-11ec-ac5a-347df6f80362.xml\n",
      "Image:C:\\Users\\deven\\OneDrive\\Documents\\Tensorflow Object Detection\\TFODCourse\\Tensorflow\\workspace\\images\\collectedimages\\Sign_Ll\\Sign_Ll.ac6b9eae-4f0d-11ec-b59c-347df6f80362.jpg -> Annotation:C:/Users/deven/OneDrive/Documents/Tensorflow Object Detection/TFODCourse/Tensorflow/workspace/images/collectedimages/Sign_Ll/Sign_Ll.ac6b9eae-4f0d-11ec-b59c-347df6f80362.xml\n",
      "Image:C:\\Users\\deven\\OneDrive\\Documents\\Tensorflow Object Detection\\TFODCourse\\Tensorflow\\workspace\\images\\collectedimages\\Sign_Ll\\Sign_Ll.ad9f40e5-4f0d-11ec-9901-347df6f80362.jpg -> Annotation:C:/Users/deven/OneDrive/Documents/Tensorflow Object Detection/TFODCourse/Tensorflow/workspace/images/collectedimages/Sign_Ll/Sign_Ll.ad9f40e5-4f0d-11ec-9901-347df6f80362.xml\n"
     ]
    }
   ],
   "source": [
    "!cd {LABELIMG_PATH} && python labelImg.py"
   ]
  },
  {
   "cell_type": "markdown",
   "metadata": {},
   "source": [
    "# 6. Move them into a Training and Testing Partition"
   ]
  },
  {
   "cell_type": "markdown",
   "metadata": {},
   "source": [
    "# OPTIONAL - 7. Compress them for Colab Training"
   ]
  },
  {
   "cell_type": "code",
   "execution_count": 20,
   "metadata": {},
   "outputs": [],
   "source": [
    "TRAIN_PATH = os.path.join('Tensorflow', 'workspace', 'images', 'train')\n",
    "TEST_PATH = os.path.join('Tensorflow', 'workspace', 'images', 'test')\n",
    "ARCHIVE_PATH = os.path.join('Tensorflow', 'workspace', 'images', 'archive.tar.gz')"
   ]
  },
  {
   "cell_type": "code",
   "execution_count": 21,
   "metadata": {},
   "outputs": [],
   "source": [
    "!tar -czf {ARCHIVE_PATH} {TRAIN_PATH} {TEST_PATH}"
   ]
  },
  {
   "cell_type": "code",
   "execution_count": null,
   "metadata": {},
   "outputs": [],
   "source": []
  }
 ],
 "metadata": {
  "kernelspec": {
   "display_name": "tfod",
   "language": "python",
   "name": "tfod"
  },
  "language_info": {
   "codemirror_mode": {
    "name": "ipython",
    "version": 3
   },
   "file_extension": ".py",
   "mimetype": "text/x-python",
   "name": "python",
   "nbconvert_exporter": "python",
   "pygments_lexer": "ipython3",
   "version": "3.9.4"
  }
 },
 "nbformat": 4,
 "nbformat_minor": 2
}
